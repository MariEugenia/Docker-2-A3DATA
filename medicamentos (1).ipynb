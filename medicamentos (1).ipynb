{
 "cells": [
  {
   "cell_type": "markdown",
   "id": "19fd3030-5e71-4a33-82a4-47025621dc10",
   "metadata": {},
   "source": [
    "**Ingestão dos dados com Python via URL**"
   ]
  },
  {
   "cell_type": "code",
   "execution_count": 1,
   "id": "1aa476d3-d343-4bbc-848e-6ba1d50e6586",
   "metadata": {},
   "outputs": [],
   "source": [
    "import requests"
   ]
  },
  {
   "cell_type": "code",
   "execution_count": 2,
   "id": "1efe0a6c-4767-4e0f-9f1f-c2e4777852e7",
   "metadata": {},
   "outputs": [],
   "source": [
    "url = 'https://dados.anvisa.gov.br/dados/TA_PRECOS_MEDICAMENTOS.csv'\n",
    "url2 = 'https://dados.anvisa.gov.br/dados/TA_PRECO_MEDICAMENTO_GOV.CSV'"
   ]
  },
  {
   "cell_type": "code",
   "execution_count": 3,
   "id": "89118a7c-a622-4601-9567-126bc1c426e2",
   "metadata": {},
   "outputs": [
    {
     "name": "stderr",
     "output_type": "stream",
     "text": [
      "/opt/conda/lib/python3.11/site-packages/urllib3/connectionpool.py:1095: InsecureRequestWarning: Unverified HTTPS request is being made to host 'dados.anvisa.gov.br'. Adding certificate verification is strongly advised. See: https://urllib3.readthedocs.io/en/latest/advanced-usage.html#tls-warnings\n",
      "  warnings.warn(\n"
     ]
    }
   ],
   "source": [
    "r = requests.get(url, verify=False)"
   ]
  },
  {
   "cell_type": "code",
   "execution_count": 4,
   "id": "6095b373-f0c4-4560-ac74-a8ecb6253bf8",
   "metadata": {},
   "outputs": [
    {
     "name": "stderr",
     "output_type": "stream",
     "text": [
      "/opt/conda/lib/python3.11/site-packages/urllib3/connectionpool.py:1095: InsecureRequestWarning: Unverified HTTPS request is being made to host 'dados.anvisa.gov.br'. Adding certificate verification is strongly advised. See: https://urllib3.readthedocs.io/en/latest/advanced-usage.html#tls-warnings\n",
      "  warnings.warn(\n"
     ]
    }
   ],
   "source": [
    "l = requests.get(url2, verify=False)"
   ]
  },
  {
   "cell_type": "code",
   "execution_count": 5,
   "id": "1627e195-edc1-4593-93fa-33d2551247cd",
   "metadata": {},
   "outputs": [],
   "source": [
    "with open (\"r.csv\", \"wb\") as f:\n",
    "    f.write(r.content)"
   ]
  },
  {
   "cell_type": "code",
   "execution_count": 6,
   "id": "c71d590f-7c3d-4bc5-8ebf-5da317138333",
   "metadata": {},
   "outputs": [],
   "source": [
    "with open (\"l.csv\", \"wb\") as g:\n",
    "    g.write(l.content)"
   ]
  },
  {
   "cell_type": "markdown",
   "id": "3ad8ccd4-5144-45a5-932c-ea322ad18e18",
   "metadata": {},
   "source": [
    "**Tratando os dados através do Spark, criando os Data Frames e transformando os nomes das colunas para letras minúsculas**"
   ]
  },
  {
   "cell_type": "code",
   "execution_count": 7,
   "id": "70658f77-7dff-45c0-9c37-0a0e684201db",
   "metadata": {},
   "outputs": [],
   "source": [
    "from pyspark.sql import SparkSession"
   ]
  },
  {
   "cell_type": "code",
   "execution_count": 8,
   "id": "3fc35dd0-c84b-42d5-b38b-d3ef4df50b90",
   "metadata": {},
   "outputs": [],
   "source": [
    "spark = SparkSession \\\n",
    ".builder \\\n",
    ".config(\"spark.sql.repl.eagerEval.enabled\", \"True\") \\\n",
    ".config(\"spark.sql.repl.eagerEval.maxNumRows\", \"10\") \\\n",
    ".getOrCreate()"
   ]
  },
  {
   "cell_type": "code",
   "execution_count": 9,
   "id": "f69ecc37-4e0a-47f9-aaee-7ceb31a32a54",
   "metadata": {},
   "outputs": [],
   "source": [
    "import pyspark.sql.functions as f"
   ]
  },
  {
   "cell_type": "code",
   "execution_count": 10,
   "id": "5bb1d76c-3e31-446f-9a18-4fd1e2f9b718",
   "metadata": {},
   "outputs": [
    {
     "name": "stderr",
     "output_type": "stream",
     "text": [
      "ERROR:root:KeyboardInterrupt while sending command.\n",
      "Traceback (most recent call last):\n",
      "  File \"/usr/local/spark/python/lib/py4j-0.10.9.7-src.zip/py4j/java_gateway.py\", line 1038, in send_command\n",
      "    response = connection.send_command(command)\n",
      "               ^^^^^^^^^^^^^^^^^^^^^^^^^^^^^^^^\n",
      "  File \"/usr/local/spark/python/lib/py4j-0.10.9.7-src.zip/py4j/clientserver.py\", line 511, in send_command\n",
      "    answer = smart_decode(self.stream.readline()[:-1])\n",
      "                          ^^^^^^^^^^^^^^^^^^^^^^\n",
      "  File \"/opt/conda/lib/python3.11/socket.py\", line 706, in readinto\n",
      "    return self._sock.recv_into(b)\n",
      "           ^^^^^^^^^^^^^^^^^^^^^^^\n",
      "KeyboardInterrupt\n"
     ]
    },
    {
     "ename": "KeyboardInterrupt",
     "evalue": "",
     "output_type": "error",
     "traceback": [
      "\u001b[0;31m---------------------------------------------------------------------------\u001b[0m",
      "\u001b[0;31mKeyboardInterrupt\u001b[0m                         Traceback (most recent call last)",
      "Cell \u001b[0;32mIn[10], line 1\u001b[0m\n\u001b[0;32m----> 1\u001b[0m df1 \u001b[38;5;241m=\u001b[39m \u001b[43mspark\u001b[49m\u001b[38;5;241;43m.\u001b[39;49m\u001b[43mread\u001b[49m\u001b[38;5;241;43m.\u001b[39;49m\u001b[43mcsv\u001b[49m\u001b[43m(\u001b[49m\u001b[38;5;124;43m\"\u001b[39;49m\u001b[38;5;124;43mr.csv\u001b[39;49m\u001b[38;5;124;43m\"\u001b[39;49m\u001b[43m,\u001b[49m\u001b[43m \u001b[49m\u001b[43mheader\u001b[49m\u001b[38;5;241;43m=\u001b[39;49m\u001b[38;5;28;43;01mTrue\u001b[39;49;00m\u001b[43m,\u001b[49m\u001b[43m \u001b[49m\u001b[43msep\u001b[49m\u001b[38;5;241;43m=\u001b[39;49m\u001b[38;5;124;43m\"\u001b[39;49m\u001b[38;5;124;43m;\u001b[39;49m\u001b[38;5;124;43m\"\u001b[39;49m\u001b[43m,\u001b[49m\u001b[43m \u001b[49m\u001b[43minferSchema\u001b[49m\u001b[38;5;241;43m=\u001b[39;49m\u001b[38;5;28;43;01mTrue\u001b[39;49;00m\u001b[43m)\u001b[49m\n",
      "File \u001b[0;32m/usr/local/spark/python/pyspark/sql/readwriter.py:727\u001b[0m, in \u001b[0;36mDataFrameReader.csv\u001b[0;34m(self, path, schema, sep, encoding, quote, escape, comment, header, inferSchema, ignoreLeadingWhiteSpace, ignoreTrailingWhiteSpace, nullValue, nanValue, positiveInf, negativeInf, dateFormat, timestampFormat, maxColumns, maxCharsPerColumn, maxMalformedLogPerPartition, mode, columnNameOfCorruptRecord, multiLine, charToEscapeQuoteEscaping, samplingRatio, enforceSchema, emptyValue, locale, lineSep, pathGlobFilter, recursiveFileLookup, modifiedBefore, modifiedAfter, unescapedQuoteHandling)\u001b[0m\n\u001b[1;32m    725\u001b[0m \u001b[38;5;28;01mif\u001b[39;00m \u001b[38;5;28mtype\u001b[39m(path) \u001b[38;5;241m==\u001b[39m \u001b[38;5;28mlist\u001b[39m:\n\u001b[1;32m    726\u001b[0m     \u001b[38;5;28;01massert\u001b[39;00m \u001b[38;5;28mself\u001b[39m\u001b[38;5;241m.\u001b[39m_spark\u001b[38;5;241m.\u001b[39m_sc\u001b[38;5;241m.\u001b[39m_jvm \u001b[38;5;129;01mis\u001b[39;00m \u001b[38;5;129;01mnot\u001b[39;00m \u001b[38;5;28;01mNone\u001b[39;00m\n\u001b[0;32m--> 727\u001b[0m     \u001b[38;5;28;01mreturn\u001b[39;00m \u001b[38;5;28mself\u001b[39m\u001b[38;5;241m.\u001b[39m_df(\u001b[38;5;28;43mself\u001b[39;49m\u001b[38;5;241;43m.\u001b[39;49m\u001b[43m_jreader\u001b[49m\u001b[38;5;241;43m.\u001b[39;49m\u001b[43mcsv\u001b[49m\u001b[43m(\u001b[49m\u001b[38;5;28;43mself\u001b[39;49m\u001b[38;5;241;43m.\u001b[39;49m\u001b[43m_spark\u001b[49m\u001b[38;5;241;43m.\u001b[39;49m\u001b[43m_sc\u001b[49m\u001b[38;5;241;43m.\u001b[39;49m\u001b[43m_jvm\u001b[49m\u001b[38;5;241;43m.\u001b[39;49m\u001b[43mPythonUtils\u001b[49m\u001b[38;5;241;43m.\u001b[39;49m\u001b[43mtoSeq\u001b[49m\u001b[43m(\u001b[49m\u001b[43mpath\u001b[49m\u001b[43m)\u001b[49m\u001b[43m)\u001b[49m)\n\u001b[1;32m    728\u001b[0m \u001b[38;5;28;01melif\u001b[39;00m \u001b[38;5;28misinstance\u001b[39m(path, RDD):\n\u001b[1;32m    730\u001b[0m     \u001b[38;5;28;01mdef\u001b[39;00m \u001b[38;5;21mfunc\u001b[39m(iterator):\n",
      "File \u001b[0;32m/usr/local/spark/python/lib/py4j-0.10.9.7-src.zip/py4j/java_gateway.py:1321\u001b[0m, in \u001b[0;36mJavaMember.__call__\u001b[0;34m(self, *args)\u001b[0m\n\u001b[1;32m   1314\u001b[0m args_command, temp_args \u001b[38;5;241m=\u001b[39m \u001b[38;5;28mself\u001b[39m\u001b[38;5;241m.\u001b[39m_build_args(\u001b[38;5;241m*\u001b[39margs)\n\u001b[1;32m   1316\u001b[0m command \u001b[38;5;241m=\u001b[39m proto\u001b[38;5;241m.\u001b[39mCALL_COMMAND_NAME \u001b[38;5;241m+\u001b[39m\\\n\u001b[1;32m   1317\u001b[0m     \u001b[38;5;28mself\u001b[39m\u001b[38;5;241m.\u001b[39mcommand_header \u001b[38;5;241m+\u001b[39m\\\n\u001b[1;32m   1318\u001b[0m     args_command \u001b[38;5;241m+\u001b[39m\\\n\u001b[1;32m   1319\u001b[0m     proto\u001b[38;5;241m.\u001b[39mEND_COMMAND_PART\n\u001b[0;32m-> 1321\u001b[0m answer \u001b[38;5;241m=\u001b[39m \u001b[38;5;28;43mself\u001b[39;49m\u001b[38;5;241;43m.\u001b[39;49m\u001b[43mgateway_client\u001b[49m\u001b[38;5;241;43m.\u001b[39;49m\u001b[43msend_command\u001b[49m\u001b[43m(\u001b[49m\u001b[43mcommand\u001b[49m\u001b[43m)\u001b[49m\n\u001b[1;32m   1322\u001b[0m return_value \u001b[38;5;241m=\u001b[39m get_return_value(\n\u001b[1;32m   1323\u001b[0m     answer, \u001b[38;5;28mself\u001b[39m\u001b[38;5;241m.\u001b[39mgateway_client, \u001b[38;5;28mself\u001b[39m\u001b[38;5;241m.\u001b[39mtarget_id, \u001b[38;5;28mself\u001b[39m\u001b[38;5;241m.\u001b[39mname)\n\u001b[1;32m   1325\u001b[0m \u001b[38;5;28;01mfor\u001b[39;00m temp_arg \u001b[38;5;129;01min\u001b[39;00m temp_args:\n",
      "File \u001b[0;32m/usr/local/spark/python/lib/py4j-0.10.9.7-src.zip/py4j/java_gateway.py:1038\u001b[0m, in \u001b[0;36mGatewayClient.send_command\u001b[0;34m(self, command, retry, binary)\u001b[0m\n\u001b[1;32m   1036\u001b[0m connection \u001b[38;5;241m=\u001b[39m \u001b[38;5;28mself\u001b[39m\u001b[38;5;241m.\u001b[39m_get_connection()\n\u001b[1;32m   1037\u001b[0m \u001b[38;5;28;01mtry\u001b[39;00m:\n\u001b[0;32m-> 1038\u001b[0m     response \u001b[38;5;241m=\u001b[39m \u001b[43mconnection\u001b[49m\u001b[38;5;241;43m.\u001b[39;49m\u001b[43msend_command\u001b[49m\u001b[43m(\u001b[49m\u001b[43mcommand\u001b[49m\u001b[43m)\u001b[49m\n\u001b[1;32m   1039\u001b[0m     \u001b[38;5;28;01mif\u001b[39;00m binary:\n\u001b[1;32m   1040\u001b[0m         \u001b[38;5;28;01mreturn\u001b[39;00m response, \u001b[38;5;28mself\u001b[39m\u001b[38;5;241m.\u001b[39m_create_connection_guard(connection)\n",
      "File \u001b[0;32m/usr/local/spark/python/lib/py4j-0.10.9.7-src.zip/py4j/clientserver.py:511\u001b[0m, in \u001b[0;36mClientServerConnection.send_command\u001b[0;34m(self, command)\u001b[0m\n\u001b[1;32m    509\u001b[0m \u001b[38;5;28;01mtry\u001b[39;00m:\n\u001b[1;32m    510\u001b[0m     \u001b[38;5;28;01mwhile\u001b[39;00m \u001b[38;5;28;01mTrue\u001b[39;00m:\n\u001b[0;32m--> 511\u001b[0m         answer \u001b[38;5;241m=\u001b[39m smart_decode(\u001b[38;5;28mself\u001b[39m\u001b[38;5;241m.\u001b[39mstream\u001b[38;5;241m.\u001b[39mreadline()[:\u001b[38;5;241m-\u001b[39m\u001b[38;5;241m1\u001b[39m])\n\u001b[1;32m    512\u001b[0m         logger\u001b[38;5;241m.\u001b[39mdebug(\u001b[38;5;124m\"\u001b[39m\u001b[38;5;124mAnswer received: \u001b[39m\u001b[38;5;132;01m{0}\u001b[39;00m\u001b[38;5;124m\"\u001b[39m\u001b[38;5;241m.\u001b[39mformat(answer))\n\u001b[1;32m    513\u001b[0m         \u001b[38;5;66;03m# Happens when a the other end is dead. There might be an empty\u001b[39;00m\n\u001b[1;32m    514\u001b[0m         \u001b[38;5;66;03m# answer before the socket raises an error.\u001b[39;00m\n",
      "File \u001b[0;32m/opt/conda/lib/python3.11/socket.py:706\u001b[0m, in \u001b[0;36mSocketIO.readinto\u001b[0;34m(self, b)\u001b[0m\n\u001b[1;32m    704\u001b[0m \u001b[38;5;28;01mwhile\u001b[39;00m \u001b[38;5;28;01mTrue\u001b[39;00m:\n\u001b[1;32m    705\u001b[0m     \u001b[38;5;28;01mtry\u001b[39;00m:\n\u001b[0;32m--> 706\u001b[0m         \u001b[38;5;28;01mreturn\u001b[39;00m \u001b[38;5;28;43mself\u001b[39;49m\u001b[38;5;241;43m.\u001b[39;49m\u001b[43m_sock\u001b[49m\u001b[38;5;241;43m.\u001b[39;49m\u001b[43mrecv_into\u001b[49m\u001b[43m(\u001b[49m\u001b[43mb\u001b[49m\u001b[43m)\u001b[49m\n\u001b[1;32m    707\u001b[0m     \u001b[38;5;28;01mexcept\u001b[39;00m timeout:\n\u001b[1;32m    708\u001b[0m         \u001b[38;5;28mself\u001b[39m\u001b[38;5;241m.\u001b[39m_timeout_occurred \u001b[38;5;241m=\u001b[39m \u001b[38;5;28;01mTrue\u001b[39;00m\n",
      "\u001b[0;31mKeyboardInterrupt\u001b[0m: "
     ]
    }
   ],
   "source": [
    "df1 = spark.read.csv(\"r.csv\", header=True, sep=\";\", inferSchema=True)"
   ]
  },
  {
   "cell_type": "code",
   "execution_count": null,
   "id": "07997158-6743-4314-8bae-8187fd372f16",
   "metadata": {},
   "outputs": [],
   "source": [
    "from pyspark.sql.functions import col\n",
    "df1 = df1.select([col(c).alias(c.lower()) for c in df1.columns])"
   ]
  },
  {
   "cell_type": "code",
   "execution_count": null,
   "id": "47f27827-508f-458c-940c-1afdcc5e37b2",
   "metadata": {},
   "outputs": [],
   "source": [
    "df1.createOrReplaceTempView('dados2023')"
   ]
  },
  {
   "cell_type": "code",
   "execution_count": null,
   "id": "cdcacde2-b27f-484c-b744-9ecae155e0de",
   "metadata": {},
   "outputs": [],
   "source": []
  },
  {
   "cell_type": "code",
   "execution_count": null,
   "id": "c9da8ee8-58c1-44fd-9d76-2690c3491024",
   "metadata": {},
   "outputs": [],
   "source": [
    "df2 = spark.read.csv(\"l.csv\", header=True, sep=\";\", inferSchema=True)"
   ]
  },
  {
   "cell_type": "code",
   "execution_count": null,
   "id": "cd7d3906-4dd0-4692-bf01-182a3d538089",
   "metadata": {},
   "outputs": [],
   "source": [
    "df2 = df2.select([col(c).alias(c.lower()) for c in df2.columns])"
   ]
  },
  {
   "cell_type": "code",
   "execution_count": null,
   "id": "31e25436-d8e4-4c4b-8694-0d7d34d83f2d",
   "metadata": {},
   "outputs": [],
   "source": [
    "df2.createOrReplaceTempView('dados2022')"
   ]
  },
  {
   "cell_type": "code",
   "execution_count": null,
   "id": "f569cd78-9f1c-471c-b11c-876895dd071f",
   "metadata": {},
   "outputs": [],
   "source": [
    "df2 = df2.withColumnRenamed(\"princ�pio ativo\",\"principio_ativo\") \\\n",
    ".withColumnRenamed(\"laborat�rio\",\"laboratorio\") \\\n",
    ".withColumnRenamed(\"c�digo ggrem\",\"codigo\") \\\n",
    ".withColumnRenamed(\"apresenta��o\", \"apresentacao\") \\\n",
    ".withColumnRenamed(\"classe terap�utica\",\"classe_teraupetica\") \\\n",
    ".withColumnRenamed(\"regime de pre�o\",\"regime_preco\") \\\n",
    ".withColumnRenamed(\"restri��o hospitalar\",\"restricao_hospitalar\") \\\n",
    ".withColumnRenamed(\"an�lise recursal\",\"analise_recursal\") \\\n",
    ".withColumnRenamed(\"lista de concess�o de cr�dito tribut�rio (pis/cofins)\",\"pis_cofins\") \\\n",
    ".withColumnRenamed(\"comercializa��o 2022\",\"comercializacao_2022\")"
   ]
  },
  {
   "cell_type": "markdown",
   "id": "e1896200-48a5-4a22-9a71-5227fa24b391",
   "metadata": {},
   "source": [
    "**Pergunta número 1 - Quais os laboratórios com preço de Fábrica da substância Dipirona mais cara e mais barata no Brasil ?**"
   ]
  },
  {
   "cell_type": "code",
   "execution_count": null,
   "id": "9026f8f8-c980-4366-998f-26c10aba8058",
   "metadata": {},
   "outputs": [],
   "source": [
    "spark.sql(\"\"\"\n",
    "  SELECT no_razao_social AS Laboratorio, MAX(nu_pf18_inteiro) AS PrecoMaisCaro, MIN(nu_pf18_inteiro) AS PrecoMaisBarato\n",
    "  FROM dados2023\n",
    "  WHERE no_produto = 'DIPIRONA'\n",
    "  AND nu_pf18_inteiro > '1'\n",
    "  GROUP BY no_razao_social\n",
    "  \"\"\")\n"
   ]
  },
  {
   "cell_type": "markdown",
   "id": "293b22c9-1fd9-49b4-ada3-d23317b49665",
   "metadata": {},
   "source": [
    "**Pergunta Número 2 - Quantos laboratórios diferentes possuem registros para a substância Clonazepam e qual destes possui o menor preço ?**"
   ]
  },
  {
   "cell_type": "code",
   "execution_count": null,
   "id": "e48fae65-1099-4752-9bd0-95bc710d80d1",
   "metadata": {},
   "outputs": [],
   "source": [
    "spark.sql(\"\"\"\n",
    "    SELECT COUNT(DISTINCT no_razao_social) AS Quantidade_Laboratorios_Com_Clonazepam\n",
    "    FROM dados2023\n",
    "    WHERE ds_substancia = 'clonazepam'\n",
    "\"\"\")"
   ]
  },
  {
   "cell_type": "code",
   "execution_count": null,
   "id": "c69be4bc-792a-48af-82ac-a3f5f25c70e5",
   "metadata": {},
   "outputs": [],
   "source": [
    "spark.sql(\"\"\"\n",
    "    SELECT no_razao_social AS Laboratorio_mais_em_conta\n",
    "    FROM dados2023\n",
    "    WHERE ds_substancia = 'clonazepam'\n",
    "    GROUP BY no_razao_social\n",
    "    LIMIT 1\n",
    "\"\"\")\n",
    "\n"
   ]
  },
  {
   "cell_type": "markdown",
   "id": "ab99240d-b553-4bf0-85fc-e932a0c9ba21",
   "metadata": {},
   "source": [
    "**Pergunta Número 3 - Quais as substâncias com menores preços que têm vendas restritas apenas para hospitais?**"
   ]
  },
  {
   "cell_type": "code",
   "execution_count": null,
   "id": "50c178b0-a9e4-4e38-a022-c9ec0072a332",
   "metadata": {},
   "outputs": [],
   "source": [
    "spark.sql(\"\"\"\n",
    "SELECT no_produto AS Produto, ds_substancia AS Substancia, nu_pf18_inteiro AS Preco, st_rest_hosp AS RestricaoHospitalar\n",
    "FROM dados2023\n",
    "WHERE st_rest_hosp = 'S'\n",
    "AND nu_pf18_inteiro = (\n",
    "            SELECT MIN(nu_pf18_inteiro)\n",
    "            FROM dados2023\n",
    "                WHERE nu_pf18_inteiro > '1')\n",
    "          \"\"\")"
   ]
  },
  {
   "cell_type": "markdown",
   "id": "f8a6b2b0-47b3-49e0-acac-4eac4e4706ce",
   "metadata": {},
   "source": [
    "**Pergunta Número 4 - Qual o nome do produto e o laboratório do preço de fábrica mais baixo de sulfato de morfina no Brasil ?**"
   ]
  },
  {
   "cell_type": "code",
   "execution_count": null,
   "id": "5f829d95-1d5e-4d53-92ed-9c88aa5b56a8",
   "metadata": {},
   "outputs": [],
   "source": [
    "spark.sql(\"\"\"\n",
    "SELECT no_razao_social Laboratorio, no_produto Nome_Produto, nu_pf18_inteiro AS Preco\n",
    "    FROM dados2023\n",
    "    WHERE ds_substancia = 'sulfato de morfina'\n",
    "        AND nu_pf18_inteiro > '1'\n",
    "        AND nu_pf18_inteiro = (\n",
    "            SELECT MIN(nu_pf18_inteiro)\n",
    "            FROM dados2023\n",
    "            WHERE ds_substancia = 'sulfato de morfina'\n",
    "                AND nu_pf18_inteiro > '1'\n",
    "        )\n",
    "        \"\"\")\n"
   ]
  },
  {
   "cell_type": "markdown",
   "id": "1f44e9d6-d4ba-4fdb-9280-2acc652861cf",
   "metadata": {},
   "source": [
    "**Pergunta Número 5 - Qual o laboratório de medicamentos com o menor preço de fábrica com ICMS de 18% no Brasil ?**"
   ]
  },
  {
   "cell_type": "code",
   "execution_count": null,
   "id": "6f4b9f4b-ae02-4e37-a352-b1c2cfd4bd59",
   "metadata": {},
   "outputs": [],
   "source": [
    "spark.sql(\"\"\"\n",
    "SELECT DISTINCT(no_razao_social) Laboratorios_com_menores_precos, no_produto AS Produto, nu_pf18_inteiro AS MenorPrecoDeFabrica_ICMS_18\n",
    "FROM dados2023\n",
    "WHERE nu_pf18_inteiro = (\n",
    "    SELECT MIN(nu_pf18_inteiro) Menor_preco\n",
    "    FROM dados2023\n",
    "    WHERE nu_pf18_inteiro > '1'\n",
    "        )\"\"\")"
   ]
  },
  {
   "cell_type": "code",
   "execution_count": null,
   "id": "1db36491-9d7d-45cc-96ef-57da281a24bc",
   "metadata": {},
   "outputs": [],
   "source": []
  },
  {
   "cell_type": "markdown",
   "id": "f756e240-dd5f-42fe-9c85-3288b9374386",
   "metadata": {},
   "source": [
    "**Realizando o Output dos DataFrames em .Parquet**"
   ]
  },
  {
   "cell_type": "code",
   "execution_count": null,
   "id": "c685d711-435a-4366-a558-c4e51c403534",
   "metadata": {},
   "outputs": [],
   "source": [
    "df1.write.parquet(\"work/data/dados2023.parquet\")"
   ]
  },
  {
   "cell_type": "code",
   "execution_count": null,
   "id": "b2d82625-c978-46ff-b33b-20a02cee0ecb",
   "metadata": {},
   "outputs": [],
   "source": [
    "df2.write.parquet(\"work/data/dados2022.parquet\")"
   ]
  }
 ],
 "metadata": {
  "kernelspec": {
   "display_name": "Python 3 (ipykernel)",
   "language": "python",
   "name": "python3"
  },
  "language_info": {
   "codemirror_mode": {
    "name": "ipython",
    "version": 3
   },
   "file_extension": ".py",
   "mimetype": "text/x-python",
   "name": "python",
   "nbconvert_exporter": "python",
   "pygments_lexer": "ipython3",
   "version": "3.11.3"
  }
 },
 "nbformat": 4,
 "nbformat_minor": 5
}
